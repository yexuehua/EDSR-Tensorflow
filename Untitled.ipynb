{
 "cells": [
  {
   "cell_type": "code",
   "execution_count": 2,
   "metadata": {},
   "outputs": [],
   "source": [
    "import os\n",
    "patients = os.listdir('med_dataset/')\n",
    "for pt in patients:\n",
    "    subdir = os.path.join('med_dataset',pt)\n",
    "    filesname = os.listdir(subdir)\n",
    "    for file in filesname:\n",
    "        oldfilepath = os.path.join(subdir,file)\n",
    "        newfile = pt + file\n",
    "        newfilepath = os.path.join(subdir,newfile)\n",
    "        os.rename(oldfilepath,newfilepath)"
   ]
  },
  {
   "cell_type": "code",
   "execution_count": 3,
   "metadata": {},
   "outputs": [
    {
     "ename": "ModuleNotFoundError",
     "evalue": "No module named 'tensorflow'",
     "output_type": "error",
     "traceback": [
      "\u001b[1;31m---------------------------------------------------------------------------\u001b[0m",
      "\u001b[1;31mModuleNotFoundError\u001b[0m                       Traceback (most recent call last)",
      "\u001b[1;32m<ipython-input-3-bc75abdbd994>\u001b[0m in \u001b[0;36m<module>\u001b[1;34m\u001b[0m\n\u001b[0;32m      1\u001b[0m \u001b[1;32mimport\u001b[0m \u001b[0mnumpy\u001b[0m \u001b[1;32mas\u001b[0m \u001b[0mnp\u001b[0m\u001b[1;33m\u001b[0m\u001b[1;33m\u001b[0m\u001b[0m\n\u001b[1;32m----> 2\u001b[1;33m \u001b[1;32mimport\u001b[0m \u001b[0mtensorflow\u001b[0m \u001b[1;32mas\u001b[0m \u001b[0mtf\u001b[0m\u001b[1;33m\u001b[0m\u001b[1;33m\u001b[0m\u001b[0m\n\u001b[0m\u001b[0;32m      3\u001b[0m \u001b[1;33m\u001b[0m\u001b[0m\n\u001b[0;32m      4\u001b[0m \u001b[1;32mclass\u001b[0m \u001b[0mnomalprocess\u001b[0m\u001b[1;33m(\u001b[0m\u001b[1;33m)\u001b[0m\u001b[1;33m:\u001b[0m\u001b[1;33m\u001b[0m\u001b[1;33m\u001b[0m\u001b[0m\n\u001b[0;32m      5\u001b[0m     \u001b[1;31m# def __init__(self,mins,maxs):\u001b[0m\u001b[1;33m\u001b[0m\u001b[1;33m\u001b[0m\u001b[1;33m\u001b[0m\u001b[0m\n",
      "\u001b[1;31mModuleNotFoundError\u001b[0m: No module named 'tensorflow'"
     ]
    }
   ],
   "source": [
    "import numpy as np\n",
    "\n",
    "class nomalprocess():\n",
    "    # def __init__(self,mins,maxs):\n",
    "    # #self.mins = mins\n",
    "    # #self.maxs = maxs\n",
    "    def normal(self,pixels):\n",
    "        high,wid = pixels.shape\n",
    "        self.mins = np.min(pixels)\n",
    "        self.maxs = np.max(pixels)\n",
    "        for i in range(high):\n",
    "            for j in range(wid):\n",
    "                pixels[i][j] = int((pixels[i][j]-self.mins)*(255/(self.maxs-self.mins)))\n",
    "        return pixels\n",
    "    def denomal(self,pixels):\n",
    "        high,wid = pixels.shape\n",
    "        self.mins = np.min(pixels)\n",
    "        self.maxs = np.max(pixels)\n",
    "        for i in range(high):\n",
    "            for j in range(wid):\n",
    "                pixels[i][j] = int((pixels[i][j]-self.mins)*(255/(self.maxs-self.mins)))\n",
    "        return pixels\n",
    "\n",
    "\n",
    "nomalpro = nomalprocess()\n",
    "nomalpro.normal()"
   ]
  },
  {
   "cell_type": "code",
   "execution_count": null,
   "metadata": {},
   "outputs": [],
   "source": []
  }
 ],
 "metadata": {
  "kernelspec": {
   "display_name": "Python [conda env:tf-gpu]",
   "language": "python",
   "name": "conda-env-tf-gpu-py"
  },
  "language_info": {
   "codemirror_mode": {
    "name": "ipython",
    "version": 3
   },
   "file_extension": ".py",
   "mimetype": "text/x-python",
   "name": "python",
   "nbconvert_exporter": "python",
   "pygments_lexer": "ipython3",
   "version": "3.7.1"
  }
 },
 "nbformat": 4,
 "nbformat_minor": 2
}
